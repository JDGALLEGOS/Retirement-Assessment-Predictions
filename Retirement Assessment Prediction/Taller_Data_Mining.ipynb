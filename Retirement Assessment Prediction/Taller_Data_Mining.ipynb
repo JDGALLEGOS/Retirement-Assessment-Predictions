{
 "cells": [
  {
   "cell_type": "code",
   "execution_count": 1,
   "metadata": {
    "collapsed": false
   },
   "outputs": [],
   "source": [
    "labversion = 'Taller_data_min-1.0.0'"
   ]
  },
  {
   "cell_type": "code",
   "execution_count": 2,
   "metadata": {
    "collapsed": false
   },
   "outputs": [],
   "source": [
    "#Definir los paths de los archivos\n",
    "#historialPath = \"C:/Users/black/Desktop/Semana_2/Historial.csv\"\n",
    "#historialPaths = \"C:/Users/black/Desktop/Semana_2/Datos/Datos/Tab/Historial.txt\"\n",
    "#antiguedadPaths = \"C:/Users/black/Desktop/Semana_2/Datos/Datos/Tab/Antiguedad.txt\"\n",
    "#orgPersonalPath = \"C:/Users/black/Desktop/Semana_2/Datos/Datos/Tab/Org_personal.txt\"\n",
    "#pensionNominaPath = \"C:/Users/black/Desktop/Semana_2/Datos/Datos/Tab/Pension_nomina.txt\"\n",
    "#personalPath = \"C:/Users/black/Desktop/Semana_2/Datos/Datos/Tab/Personal.txt\"\n",
    "#testPath = \"C:/Users/black/Desktop/Semana_2/Datos/Datos/Tab/test_data.txt\"\n",
    "tablaPath = \"C:/Users/black/Desktop/Semana_2/Datos/Datos/Tab/Tabla.txt\""
   ]
  },
  {
   "cell_type": "code",
   "execution_count": 3,
   "metadata": {
    "collapsed": true
   },
   "outputs": [],
   "source": [
    "#pasar los archivos a un rdd\n",
    "#historial = sc.textFile(historialPath)\n",
    "#historials = sc.textFile(historialPaths)\n",
    "#antiguedad = sc.textFile(antiguedadPaths)\n",
    "#orgPersonal = sc.textFile(orgPersonalPath)\n",
    "#pensionNomina = sc.textFile(pensionNominaPath)\n",
    "#personal = sc.textFile(personalPath)\n",
    "#test = sc.textFile(testPath)\n",
    "tabla = sc.textFile(tablaPath)"
   ]
  },
  {
   "cell_type": "code",
   "execution_count": 4,
   "metadata": {
    "collapsed": false
   },
   "outputs": [
    {
     "data": {
      "text/plain": [
       "['Viabilidad\\tAportaciones\\tDuracion\\tHistoria\\tTipo\\tSueldo\\tAhorro\\tAntiguedad\\tPorcentaje\\tEdoCivil\\tAval\\tResidencia\\tSeguro\\tEdad\\tAdeudos\\tVivienda\\totraPension\\ttipoAfiliado\\tDependientes\\tLey\\tForaneo',\n",
       " '0\\t0\\t6\\t2\\t2\\t5133.40\\t0\\t0\\t57\\t1\\t1\\t20\\t0\\t68\\t0\\t0\\t1\\t3\\t0\\t1\\t0',\n",
       " '1\\t1\\t30\\t0\\t0\\t3625.84\\t0\\t0\\t96\\t1\\t0\\t6\\t1\\t69\\t0\\t0\\t0\\t1\\t3\\t1\\t0',\n",
       " '0\\t2\\t24\\t0\\t1\\t8700.72\\t0\\t0\\t71\\t0\\t0\\t9\\t0\\t68\\t1\\t0\\t1\\t4\\t3\\t0\\t1',\n",
       " '1\\t0\\t2\\t0\\t1\\t3673.78\\t0\\t0\\t86\\t0\\t0\\t20\\t1\\t63\\t1\\t1\\t1\\t1\\t2\\t1\\t0']"
      ]
     },
     "execution_count": 4,
     "metadata": {},
     "output_type": "execute_result"
    }
   ],
   "source": [
    "tabla.take(5)"
   ]
  },
  {
   "cell_type": "code",
   "execution_count": 5,
   "metadata": {
    "collapsed": false
   },
   "outputs": [
    {
     "name": "stdout",
     "output_type": "stream",
     "text": [
      "Viabilidad\tAportaciones\tDuracion\tHistoria\tTipo\tSueldo\tAhorro\tAntiguedad\tPorcentaje\tEdoCivil\tAval\tResidencia\tSeguro\tEdad\tAdeudos\tVivienda\totraPension\ttipoAfiliado\tDependientes\tLey\tForaneo\n"
     ]
    }
   ],
   "source": [
    "# Filter the header row \n",
    "##headerHist = historials.first()\n",
    "#headerAnt = antiguedad.first()\n",
    "#headerOrg = orgPersonal.first()\n",
    "#headerPen = pensionNomina.first()\n",
    "#headerPer = personal.first()\n",
    "#headerTest = test.first()\n",
    "headerTabla = tabla.first()\n",
    "#Print the header of one of the RDDs\n",
    "#headerHist.take(1)\n",
    "print (headerTabla)"
   ]
  },
  {
   "cell_type": "code",
   "execution_count": 6,
   "metadata": {
    "collapsed": false
   },
   "outputs": [
    {
     "data": {
      "text/plain": [
       "['0\\t0\\t6\\t2\\t2\\t5133.40\\t0\\t0\\t57\\t1\\t1\\t20\\t0\\t68\\t0\\t0\\t1\\t3\\t0\\t1\\t0',\n",
       " '1\\t1\\t30\\t0\\t0\\t3625.84\\t0\\t0\\t96\\t1\\t0\\t6\\t1\\t69\\t0\\t0\\t0\\t1\\t3\\t1\\t0',\n",
       " '0\\t2\\t24\\t0\\t1\\t8700.72\\t0\\t0\\t71\\t0\\t0\\t9\\t0\\t68\\t1\\t0\\t1\\t4\\t3\\t0\\t1',\n",
       " '1\\t0\\t2\\t0\\t1\\t3673.78\\t0\\t0\\t86\\t0\\t0\\t20\\t1\\t63\\t1\\t1\\t1\\t1\\t2\\t1\\t0',\n",
       " '0\\t0\\t21\\t2\\t1\\t4018.40\\t0\\t1\\t87\\t1\\t1\\t6\\t0\\t60\\t1\\t1\\t1\\t4\\t1\\t1\\t1']"
      ]
     },
     "execution_count": 6,
     "metadata": {},
     "output_type": "execute_result"
    }
   ],
   "source": [
    "#RDDs without the header\n",
    "#historialNoHeader = historials.filter(lambda x: x!=headerHist)\n",
    "#antiguedadNoHeader = antiguedad.filter(lambda x: x!= headerAnt)\n",
    "#orgPersonalNoHeader = orgPersonal.filter(lambda x: x!= headerOrg)\n",
    "#pensionNominaNoHeader = pensionNomina.filter(lambda x: x!= headerPen)\n",
    "#personalNoHeader = personal.filter(lambda x: x!= headerPer)\n",
    "#testNoHeader = test.filter(lambda x: x!= headerTest)\n",
    "tablaNoHeader = tabla.filter(lambda x: x!= headerTabla)\n",
    "tablaNoHeader.take(5)"
   ]
  },
  {
   "cell_type": "code",
   "execution_count": 7,
   "metadata": {
    "collapsed": false
   },
   "outputs": [],
   "source": [
    "#Function to convert string to float\n",
    "def stringToFloat(row):\n",
    "    length = len(row)\n",
    "    counts = []\n",
    "    for t in range(0,length):\n",
    "        counts.append(float(row[t])) \n",
    "\n",
    "    #return [float(row[0]),float(row[1]),float(row[2]),float(row[3])\n",
    "    #         ,float(row[4]),float(row[5]),float(row[6]),float(row[7])\n",
    "    #         ,float(row[8]),float(row[9]),float(row[10]),float(row[11])\n",
    "    #         ,float(row[12]),float(row[13]),float(row[14]),float(row[15])\n",
    "    #         ,float(row[16]),float(row[17]),float(row[18]),float(row[19])\n",
    "    #         ,float(row[20])\n",
    "    #       ]\n",
    "    return counts"
   ]
  },
  {
   "cell_type": "code",
   "execution_count": 8,
   "metadata": {
    "collapsed": false
   },
   "outputs": [
    {
     "data": {
      "text/plain": [
       "[[0.0,\n",
       "  0.0,\n",
       "  6.0,\n",
       "  2.0,\n",
       "  2.0,\n",
       "  5133.4,\n",
       "  0.0,\n",
       "  0.0,\n",
       "  57.0,\n",
       "  1.0,\n",
       "  1.0,\n",
       "  20.0,\n",
       "  0.0,\n",
       "  68.0,\n",
       "  0.0,\n",
       "  0.0,\n",
       "  1.0,\n",
       "  3.0,\n",
       "  0.0,\n",
       "  1.0,\n",
       "  0.0],\n",
       " [1.0,\n",
       "  1.0,\n",
       "  30.0,\n",
       "  0.0,\n",
       "  0.0,\n",
       "  3625.84,\n",
       "  0.0,\n",
       "  0.0,\n",
       "  96.0,\n",
       "  1.0,\n",
       "  0.0,\n",
       "  6.0,\n",
       "  1.0,\n",
       "  69.0,\n",
       "  0.0,\n",
       "  0.0,\n",
       "  0.0,\n",
       "  1.0,\n",
       "  3.0,\n",
       "  1.0,\n",
       "  0.0]]"
      ]
     },
     "execution_count": 8,
     "metadata": {},
     "output_type": "execute_result"
    }
   ],
   "source": [
    "# Convertir las cadenas de caracteres en rows para que se puedan extraer\n",
    "#historialsRDD = historialNoHeader.map(lambda x:x.split(\"\\t\"))\n",
    "#antiguedadRDD = antiguedadNoHeader.map(lambda x:x.split(\"\\t\"))\n",
    "#orgPersonalRDD = orgPersonalNoHeader.map(lambda x:x.split(\"\\t\"))\n",
    "#PensionNominaRDD = pensionNominaNoHeader.map(lambda x:x.split(\"\\t\"))\n",
    "#personalRDD = personalNoHeader.map(lambda x:x.split(\"\\t\"))\n",
    "#testRDD = testNoHeader.map(lambda x: x.split(\"\\t\")).map(stringToFloat)\n",
    "tablaRDD = tablaNoHeader.map(lambda x: x.split(\"\\t\")).map(stringToFloat)\n",
    "#testRDD2 = testRDD.map(stringToFloat)\n",
    "tablaRDD.take(2)"
   ]
  },
  {
   "cell_type": "code",
   "execution_count": null,
   "metadata": {
    "collapsed": true
   },
   "outputs": [],
   "source": []
  },
  {
   "cell_type": "code",
   "execution_count": 9,
   "metadata": {
    "collapsed": false
   },
   "outputs": [],
   "source": [
    "#importar los paquetes que vamos a usar\n",
    "\n",
    "from pyspark.sql import SQLContext\n",
    "from pyspark.sql import *\n",
    "from pyspark.sql.types import *\n",
    "#from pyspark.sql import HiveContext,Row\n",
    "sqlContext = SQLContext(sc)\n",
    "#sqlContext = HiveContext(sc)"
   ]
  },
  {
   "cell_type": "code",
   "execution_count": 10,
   "metadata": {
    "collapsed": false
   },
   "outputs": [],
   "source": [
    "#se crea una estructura en python para poder usarla despues. \n",
    "historial_df_schema = StructType(\n",
    "       [StructField('interno', StringType()),\n",
    "        StructField('clave_organica_0', StringType()),\n",
    "        StructField('clave_organica_1', StringType()),\n",
    "        StructField('clave_organica_2', StringType()),\n",
    "        StructField('clave_organica_3', StringType()),\n",
    "        StructField('periodo', StringType()),\n",
    "        StructField('consecutivo', StringType()),\n",
    "        StructField('tipo_movimiento', StringType()),\n",
    "        StructField('sueldo', StringType()),\n",
    "        #StructField('sueldo2', StringType()),\n",
    "        StructField('otras_prestaciones', StringType()),\n",
    "        StructField('quinquenios', StringType()),\n",
    "        StructField('fecha_movimiento', StringType()),\n",
    "        StructField('usuario', StringType()),\n",
    "        StructField('retroactivas', StringType()),\n",
    "        StructField('activo_ant', StringType()),\n",
    "        #StructField('activo_ant2', StringType()),\n",
    "        StructField('importado', StringType()),\n",
    "        StructField('fecha_real_mov', StringType())\n",
    "       ])"
   ]
  },
  {
   "cell_type": "code",
   "execution_count": 11,
   "metadata": {
    "collapsed": true
   },
   "outputs": [],
   "source": [
    "#se crea una estructura en python para poder usarla despues. \n",
    "antiguedad_df_schema = StructType(\n",
    "       [StructField('interno', StringType()),\n",
    "        StructField('periodos', StringType()),\n",
    "        StructField('anios', StringType()),\n",
    "        StructField('meses', StringType()),\n",
    "        StructField('dias', StringType()),\n",
    "        StructField('amd', StringType())\n",
    "       ])"
   ]
  },
  {
   "cell_type": "code",
   "execution_count": 12,
   "metadata": {
    "collapsed": true
   },
   "outputs": [],
   "source": [
    "orgPersonal_df_schema = StructType(\n",
    "       [StructField('interno', StringType()),\n",
    "        StructField('clave_organica_0', StringType()),\n",
    "        StructField('clave_organica_1', StringType()),\n",
    "        StructField('clave_organica_2', StringType()),\n",
    "        StructField('clave_organica_3', StringType()),\n",
    "        StructField('sueldo', StringType()),\n",
    "        StructField('otras_prestaciones', StringType()),\n",
    "        StructField('quinquenios', StringType()),\n",
    "        StructField('activo', StringType()),\n",
    "        #StructField('sueldo2', StringType()),\n",
    "        StructField('fecha_mov_alt', StringType()),\n",
    "        StructField('orgs1', StringType()),\n",
    "        StructField('orgs2', StringType()),\n",
    "        StructField('orgs3', StringType()),\n",
    "        StructField('orgs', StringType()),\n",
    "        StructField('dsueldo', StringType()),\n",
    "        #StructField('activo_ant2', StringType()),\n",
    "        StructField('dotras_prestaciones', StringType()),\n",
    "        StructField('dquinquenios', StringType()),\n",
    "        StructField('aplicar', StringType())\n",
    "       ])"
   ]
  },
  {
   "cell_type": "code",
   "execution_count": 13,
   "metadata": {
    "collapsed": true
   },
   "outputs": [],
   "source": [
    "penNomina_df_schema = StructType(\n",
    "       [StructField('consec', StringType()),\n",
    "        StructField('interno', StringType()),\n",
    "        StructField('clave_organica_0', StringType()),\n",
    "        StructField('clave_organica_1', StringType()),\n",
    "        StructField('clave_organica_2', StringType()),\n",
    "        StructField('clave_organica_3', StringType()),\n",
    "        StructField('sueldo', StringType()),\n",
    "        StructField('o_prestaciones', StringType()),\n",
    "        StructField('quinquenios', StringType()),\n",
    "        StructField('status', StringType()),\n",
    "        #StructField('sueldo2', StringType()),\n",
    "        StructField('tipo_pension', StringType()),\n",
    "        StructField('transitorio', StringType()),\n",
    "        StructField('torg0', StringType()),\n",
    "        StructField('torg1', StringType()),\n",
    "        StructField('torg2', StringType()),\n",
    "        StructField('torg3', StringType()),\n",
    "        StructField('procentaje', StringType()),\n",
    "        StructField('foraneo', StringType()),\n",
    "        StructField('pago', StringType()),\n",
    "        StructField('ultima_org', StringType()),\n",
    "        StructField('sdoporc', StringType()),\n",
    "        StructField('ayudporc', StringType()),\n",
    "        StructField('quinqporc', StringType()),\n",
    "        StructField('qna_inicio', StringType()),\n",
    "        #StructField('activo_ant2', StringType()),\n",
    "        StructField('fecha_registro', StringType()),\n",
    "        StructField('fecha_baja', StringType()),\n",
    "        StructField('user_baja', StringType()),\n",
    "        StructField('qna_baja', StringType()),\n",
    "        StructField('desctos', StringType()),\n",
    "        StructField('procentaje_ley', StringType()),\n",
    "        StructField('finicio_instituto', StringType())\n",
    "       ])"
   ]
  },
  {
   "cell_type": "code",
   "execution_count": 14,
   "metadata": {
    "collapsed": true
   },
   "outputs": [],
   "source": [
    "personal_df_schema = StructType(\n",
    "       [StructField('interno', StringType()),\n",
    "        StructField('curp', StringType()),\n",
    "        StructField('rfc', StringType()),\n",
    "        StructField('nombre', StringType()),\n",
    "        StructField('fecha_nacimiento', StringType()),\n",
    "        StructField('calle_numero', StringType()),\n",
    "        StructField('fraccionamiento', StringType()),\n",
    "        StructField('codigo_postal', StringType()),\n",
    "        StructField('sexo', StringType()),\n",
    "        #StructField('sueldo2', StringType()),\n",
    "        StructField('estado_civil', StringType()),\n",
    "        StructField('localidad', StringType()),\n",
    "        StructField('municipio', StringType()),\n",
    "        StructField('estado', StringType()),\n",
    "        StructField('pais', StringType()),\n",
    "        StructField('dependientes', StringType()),\n",
    "        #StructField('activo_ant2', StringType()),\n",
    "        StructField('posee_inmueble', StringType()),\n",
    "        StructField('fecha_carta', StringType()),\n",
    "        StructField('nacionalidad', StringType()),\n",
    "        StructField('fecha_alta', StringType())\n",
    "       ])"
   ]
  },
  {
   "cell_type": "code",
   "execution_count": 52,
   "metadata": {
    "collapsed": true
   },
   "outputs": [],
   "source": [
    "test_df_schema = StructType(\n",
    "       [StructField('creditability', DoubleType()),\n",
    "        StructField('balance', DoubleType()),\n",
    "        StructField('duration', DoubleType()),\n",
    "        StructField('history', DoubleType()),\n",
    "        StructField('purpose', DoubleType()),\n",
    "        StructField('amount', DoubleType()),\n",
    "        StructField('savings', DoubleType()),\n",
    "        StructField('employment', DoubleType()),\n",
    "        StructField('instPercent', DoubleType()),\n",
    "        #StructField('sueldo2', StringType()),\n",
    "        StructField('sexMarried', DoubleType()),\n",
    "        StructField('guarantors', DoubleType()),\n",
    "        StructField('residenceDuration', DoubleType()),\n",
    "        StructField('assets', DoubleType()),\n",
    "        StructField('age', DoubleType()),\n",
    "        StructField('concCredit', DoubleType()),\n",
    "        #StructField('activo_ant2', StringType()),\n",
    "        StructField('apartment', DoubleType()),\n",
    "        StructField('credits', DoubleType()),\n",
    "        StructField('occupations', DoubleType()),\n",
    "        StructField('dependents', DoubleType()),\n",
    "        StructField('hasPhone', DoubleType()),\n",
    "        StructField('foreign', DoubleType())\n",
    "       ])"
   ]
  },
  {
   "cell_type": "code",
   "execution_count": 10,
   "metadata": {
    "collapsed": true
   },
   "outputs": [],
   "source": [
    "#se crea una estructura en python para poder usarla despues. \n",
    "tabla_df_schema = StructType(\n",
    "       [StructField('viabilidad', DoubleType()),\n",
    "        StructField('aportaciones', DoubleType()),\n",
    "        StructField('duracion', DoubleType()),\n",
    "        StructField('historia', DoubleType()),\n",
    "        StructField('tipo', DoubleType()),\n",
    "        StructField('sueldo', DoubleType()),\n",
    "        StructField('ahorro', DoubleType()),\n",
    "        StructField('antiguedad', DoubleType()),\n",
    "        StructField('procentaje', DoubleType()),\n",
    "        #StructField('sueldo2', StringType()),\n",
    "        StructField('edocivil', DoubleType()),\n",
    "        StructField('aval', DoubleType()),\n",
    "        StructField('residencia', DoubleType()),\n",
    "        StructField('seguro', DoubleType()),\n",
    "        StructField('edad', DoubleType()),\n",
    "        StructField('adeudos', DoubleType()),\n",
    "        #StructField('activo_ant2', StringType()),\n",
    "        StructField('vivienda', DoubleType()),\n",
    "        StructField('otrapension', DoubleType()),\n",
    "        StructField('tipoafiliado', DoubleType()),\n",
    "        StructField('dependientes', DoubleType()),\n",
    "        StructField('ley', DoubleType()),\n",
    "        StructField('foraneo', DoubleType())\n",
    "       ])"
   ]
  },
  {
   "cell_type": "code",
   "execution_count": 11,
   "metadata": {
    "collapsed": false
   },
   "outputs": [],
   "source": [
    "#powerPlantDF = sqlContext.read.format('com.databricks.spark.csv').options(delimiter=',',header='true',inferschema='true').load('historialPath')\n",
    "#set(powerPlantDF.dtypes)\n",
    "#se crea una tabla con la estructura de arriba y los datos del rdd historialRDD\n",
    "#historialDF = sqlContext.createDataFrame(historialsRDD, schema = historial_df_schema)\n",
    "#antiguedadDF = sqlContext.createDataFrame(antiguedadRDD, schema = antiguedad_df_schema)\n",
    "#orgPersonalDF = sqlContext.createDataFrame(orgPersonalRDD, schema = orgPersonal_df_schema)\n",
    "#penNominaDF = sqlContext.createDataFrame(PensionNominaRDD, schema = penNomina_df_schema)\n",
    "#personalDF = sqlContext.createDataFrame(personalRDD, schema = personal_df_schema)\n",
    "#testDF = sqlContext.createDataFrame(testRDD, schema =test_df_schema)\n",
    "tablaDF = sqlContext.createDataFrame(tablaRDD, schema =tabla_df_schema).cache()"
   ]
  },
  {
   "cell_type": "code",
   "execution_count": 12,
   "metadata": {
    "collapsed": false
   },
   "outputs": [
    {
     "name": "stdout",
     "output_type": "stream",
     "text": [
      "+----------+------------+--------+--------+----+-------+------+----------+----------+--------+----+----------+------+----+-------+--------+-----------+------------+------------+---+-------+\n",
      "|viabilidad|aportaciones|duracion|historia|tipo| sueldo|ahorro|antiguedad|procentaje|edocivil|aval|residencia|seguro|edad|adeudos|vivienda|otrapension|tipoafiliado|dependientes|ley|foraneo|\n",
      "+----------+------------+--------+--------+----+-------+------+----------+----------+--------+----+----------+------+----+-------+--------+-----------+------------+------------+---+-------+\n",
      "|       0.0|         0.0|     6.0|     2.0| 2.0| 5133.4|   0.0|       0.0|      57.0|     1.0| 1.0|      20.0|   0.0|68.0|    0.0|     0.0|        1.0|         3.0|         0.0|1.0|    0.0|\n",
      "|       1.0|         1.0|    30.0|     0.0| 0.0|3625.84|   0.0|       0.0|      96.0|     1.0| 0.0|       6.0|   1.0|69.0|    0.0|     0.0|        0.0|         1.0|         3.0|1.0|    0.0|\n",
      "|       0.0|         2.0|    24.0|     0.0| 1.0|8700.72|   0.0|       0.0|      71.0|     0.0| 0.0|       9.0|   0.0|68.0|    1.0|     0.0|        1.0|         4.0|         3.0|0.0|    1.0|\n",
      "|       1.0|         0.0|     2.0|     0.0| 1.0|3673.78|   0.0|       0.0|      86.0|     0.0| 0.0|      20.0|   1.0|63.0|    1.0|     1.0|        1.0|         1.0|         2.0|1.0|    0.0|\n",
      "|       0.0|         0.0|    21.0|     2.0| 1.0| 4018.4|   0.0|       1.0|      87.0|     1.0| 1.0|       6.0|   0.0|60.0|    1.0|     1.0|        1.0|         4.0|         1.0|1.0|    1.0|\n",
      "|       1.0|         0.0|    27.0|     2.0| 0.0|5301.36|   0.0|       1.0|      57.0|     1.0| 1.0|      24.0|   1.0|55.0|    1.0|     0.0|        1.0|         3.0|         1.0|1.0|    1.0|\n",
      "|       0.0|         1.0|    23.0|     0.0| 1.0|9662.83|   0.0|       0.0|      85.0|     1.0| 1.0|       6.0|   1.0|69.0|    1.0|     0.0|        1.0|         1.0|         1.0|0.0|    0.0|\n",
      "|       0.0|         1.0|    25.0|     2.0| 1.0|10500.0|   0.0|       0.0|      98.0|     1.0| 1.0|       9.0|   1.0|53.0|    1.0|     0.0|        0.0|         1.0|         1.0|0.0|    1.0|\n",
      "|       0.0|         2.0|    29.0|     1.0| 2.0|4086.27|   1.0|       1.0|      51.0|     1.0| 0.0|       5.0|   1.0|51.0|    0.0|     0.0|        1.0|         1.0|         3.0|0.0|    1.0|\n",
      "|       0.0|         1.0|    27.0|     0.0| 0.0|5083.94|   1.0|       1.0|      91.0|     1.0| 1.0|      30.0|   1.0|69.0|    1.0|     1.0|        1.0|         1.0|         0.0|0.0|    1.0|\n",
      "|       1.0|         0.0|     4.0|     0.0| 0.0|3673.78|   0.0|       1.0|      73.0|     1.0| 0.0|      25.0|   1.0|54.0|    1.0|     1.0|        0.0|         0.0|         0.0|1.0|    0.0|\n",
      "|       1.0|         1.0|    24.0|     2.0| 1.0|5453.25|   1.0|       1.0|      86.0|     1.0| 1.0|       6.0|   0.0|69.0|    0.0|     1.0|        0.0|         0.0|         0.0|1.0|    0.0|\n",
      "|       1.0|         2.0|     6.0|     0.0| 1.0|5609.64|   1.0|       1.0|      78.0|     0.0| 0.0|       9.0|   1.0|61.0|    1.0|     1.0|        1.0|         0.0|         3.0|0.0|    1.0|\n",
      "|       1.0|         2.0|    27.0|     0.0| 1.0|8700.72|   1.0|       0.0|      57.0|     1.0| 0.0|      25.0|   0.0|51.0|    0.0|     1.0|        1.0|         3.0|         2.0|0.0|    1.0|\n",
      "|       1.0|         2.0|    13.0|     2.0| 0.0| 9108.3|   1.0|       0.0|      59.0|     1.0| 0.0|      10.0|   0.0|60.0|    1.0|     1.0|        0.0|         4.0|         1.0|1.0|    0.0|\n",
      "|       0.0|         2.0|     3.0|     2.0| 2.0| 3885.0|   1.0|       0.0|      97.0|     1.0| 0.0|      14.0|   0.0|68.0|    0.0|     0.0|        1.0|         2.0|         1.0|1.0|    0.0|\n",
      "|       1.0|         2.0|     5.0|     2.0| 1.0|4181.06|   1.0|       0.0|      99.0|     1.0| 0.0|       8.0|   0.0|57.0|    1.0|     1.0|        0.0|         1.0|         0.0|1.0|    0.0|\n",
      "|       0.0|         2.0|    16.0|     2.0| 0.0| 3885.0|   1.0|       1.0|     100.0|     1.0| 1.0|      13.0|   0.0|62.0|    1.0|     1.0|        0.0|         4.0|         2.0|1.0|    0.0|\n",
      "|       1.0|         1.0|     6.0|     1.0| 1.0|7882.79|   1.0|       0.0|      73.0|     1.0| 1.0|      13.0|   1.0|49.0|    0.0|     0.0|        1.0|         3.0|         2.0|0.0|    1.0|\n",
      "|       0.0|         1.0|    16.0|     0.0| 2.0|4105.58|   1.0|       0.0|      92.0|     0.0| 1.0|      24.0|   0.0|67.0|    1.0|     1.0|        1.0|         0.0|         3.0|1.0|    0.0|\n",
      "+----------+------------+--------+--------+----+-------+------+----------+----------+--------+----+----------+------+----+-------+--------+-----------+------------+------------+---+-------+\n",
      "only showing top 20 rows\n",
      "\n"
     ]
    }
   ],
   "source": [
    "tablaDF.show()"
   ]
  },
  {
   "cell_type": "code",
   "execution_count": 13,
   "metadata": {
    "collapsed": false
   },
   "outputs": [
    {
     "name": "stdout",
     "output_type": "stream",
     "text": [
      "[('viabilidad', 'double'), ('aportaciones', 'double'), ('duracion', 'double'), ('historia', 'double'), ('tipo', 'double'), ('sueldo', 'double'), ('ahorro', 'double'), ('antiguedad', 'double'), ('procentaje', 'double'), ('edocivil', 'double'), ('aval', 'double'), ('residencia', 'double'), ('seguro', 'double'), ('edad', 'double'), ('adeudos', 'double'), ('vivienda', 'double'), ('otrapension', 'double'), ('tipoafiliado', 'double'), ('dependientes', 'double'), ('ley', 'double'), ('foraneo', 'double')]\n"
     ]
    }
   ],
   "source": [
    "tablaDF.dtypes\n",
    "print (tablaDF.dtypes)"
   ]
  },
  {
   "cell_type": "code",
   "execution_count": 14,
   "metadata": {
    "collapsed": false
   },
   "outputs": [
    {
     "name": "stdout",
     "output_type": "stream",
     "text": [
      "+-------+-------------------+------------------+-----------------+-------------------+\n",
      "|summary|         viabilidad|      aportaciones|           sueldo|         antiguedad|\n",
      "+-------+-------------------+------------------+-----------------+-------------------+\n",
      "|  count|              22795|             22795|            22795|              22795|\n",
      "|   mean|0.49392410616363236|1.0107479710462821|6832.485916648352|0.49646852379907874|\n",
      "| stddev| 0.4999740490196086|0.8142466309350115|5915.986567559321|0.49999849592499146|\n",
      "|    min|                0.0|               0.0|              0.0|                0.0|\n",
      "|    max|                1.0|               2.0|        103653.77|                1.0|\n",
      "+-------+-------------------+------------------+-----------------+-------------------+\n",
      "\n"
     ]
    }
   ],
   "source": [
    "#Computes statistics for numeric columns\n",
    "tablaDF.describe('viabilidad','aportaciones','sueldo','antiguedad').show()"
   ]
  },
  {
   "cell_type": "code",
   "execution_count": 15,
   "metadata": {
    "collapsed": false
   },
   "outputs": [],
   "source": [
    "#Register the data.frame as a table. This will allow us to compute the algorithm\n",
    "#sqlContext.sql(\"DROP TABLE IF EXISTS test_data\")\n",
    "sqlContext.registerDataFrameAsTable(tablaDF,\"tabla_data\")\n",
    "#selectDF = tablaDF.select(tablaDF[\"sueldo\"],tablaDF[\"viabilidad\"])\n",
    "#selectDF.show()\n",
    "#sqlContext.dropTempTable(\"test_data\")"
   ]
  },
  {
   "cell_type": "code",
   "execution_count": 16,
   "metadata": {
    "collapsed": false
   },
   "outputs": [
    {
     "data": {
      "text/plain": [
       "<bound method DataFrame.printSchema of DataFrame[viabilidad: double, aportaciones: double, duracion: double, historia: double, tipo: double, sueldo: double, ahorro: double, antiguedad: double, procentaje: double, edocivil: double, aval: double, residencia: double, seguro: double, edad: double, adeudos: double, vivienda: double, otrapension: double, tipoafiliado: double, dependientes: double, ley: double, foraneo: double]>"
      ]
     },
     "execution_count": 16,
     "metadata": {},
     "output_type": "execute_result"
    }
   ],
   "source": [
    "#Print out the schema in the tree format\n",
    "tablaDF.printSchema"
   ]
  },
  {
   "cell_type": "code",
   "execution_count": 17,
   "metadata": {
    "collapsed": false
   },
   "outputs": [],
   "source": [
    "#Data Preparation\n",
    "\n",
    "#The next step is to prepare the data for machine learning. Since all of this data is numeric \n",
    "#and consistent this is a simple and strightforward tark. \n",
    "\n",
    "#The goal is to use machine learning to determine if the scenario is optimal or not. \n",
    "#The first step in building our ML pipeline is to convert the predictor features from Data \n",
    "#Frame columns to Feature Vectors using the pyspark.ml.feature.VectorAssember() method.\n",
    "#The VectorAssember is a transformer that conbines a given list of columns into a single vector columns.\n",
    "#It is useful for combining raw features generated by different feature transformres into a \n",
    "#single feature vector, in order to train ML models like decision trees. VectorAssembler takes a list\n",
    "#of input columns names (each is a string) and the name of the output column"
   ]
  },
  {
   "cell_type": "code",
   "execution_count": 18,
   "metadata": {
    "collapsed": false
   },
   "outputs": [
    {
     "name": "stdout",
     "output_type": "stream",
     "text": [
      "+----------+------------+--------+--------+----+-------+------+----------+----------+--------+----+----------+------+----+-------+--------+-----------+------------+------------+---+-------+--------------------+\n",
      "|viabilidad|aportaciones|duracion|historia|tipo| sueldo|ahorro|antiguedad|procentaje|edocivil|aval|residencia|seguro|edad|adeudos|vivienda|otrapension|tipoafiliado|dependientes|ley|foraneo|            features|\n",
      "+----------+------------+--------+--------+----+-------+------+----------+----------+--------+----+----------+------+----+-------+--------+-----------+------------+------------+---+-------+--------------------+\n",
      "|       0.0|         0.0|     6.0|     2.0| 2.0| 5133.4|   0.0|       0.0|      57.0|     1.0| 1.0|      20.0|   0.0|68.0|    0.0|     0.0|        1.0|         3.0|         0.0|1.0|    0.0|(20,[1,2,3,4,7,8,...|\n",
      "|       1.0|         1.0|    30.0|     0.0| 0.0|3625.84|   0.0|       0.0|      96.0|     1.0| 0.0|       6.0|   1.0|69.0|    0.0|     0.0|        0.0|         1.0|         3.0|1.0|    0.0|(20,[0,1,4,7,8,10...|\n",
      "|       0.0|         2.0|    24.0|     0.0| 1.0|8700.72|   0.0|       0.0|      71.0|     0.0| 0.0|       9.0|   0.0|68.0|    1.0|     0.0|        1.0|         4.0|         3.0|0.0|    1.0|(20,[0,1,3,4,7,10...|\n",
      "|       1.0|         0.0|     2.0|     0.0| 1.0|3673.78|   0.0|       0.0|      86.0|     0.0| 0.0|      20.0|   1.0|63.0|    1.0|     1.0|        1.0|         1.0|         2.0|1.0|    0.0|[0.0,2.0,0.0,1.0,...|\n",
      "|       0.0|         0.0|    21.0|     2.0| 1.0| 4018.4|   0.0|       1.0|      87.0|     1.0| 1.0|       6.0|   0.0|60.0|    1.0|     1.0|        1.0|         4.0|         1.0|1.0|    1.0|[0.0,21.0,2.0,1.0...|\n",
      "|       1.0|         0.0|    27.0|     2.0| 0.0|5301.36|   0.0|       1.0|      57.0|     1.0| 1.0|      24.0|   1.0|55.0|    1.0|     0.0|        1.0|         3.0|         1.0|1.0|    1.0|[0.0,27.0,2.0,0.0...|\n",
      "|       0.0|         1.0|    23.0|     0.0| 1.0|9662.83|   0.0|       0.0|      85.0|     1.0| 1.0|       6.0|   1.0|69.0|    1.0|     0.0|        1.0|         1.0|         1.0|0.0|    0.0|[1.0,23.0,0.0,1.0...|\n",
      "|       0.0|         1.0|    25.0|     2.0| 1.0|10500.0|   0.0|       0.0|      98.0|     1.0| 1.0|       9.0|   1.0|53.0|    1.0|     0.0|        0.0|         1.0|         1.0|0.0|    1.0|[1.0,25.0,2.0,1.0...|\n",
      "|       0.0|         2.0|    29.0|     1.0| 2.0|4086.27|   1.0|       1.0|      51.0|     1.0| 0.0|       5.0|   1.0|51.0|    0.0|     0.0|        1.0|         1.0|         3.0|0.0|    1.0|[2.0,29.0,1.0,2.0...|\n",
      "|       0.0|         1.0|    27.0|     0.0| 0.0|5083.94|   1.0|       1.0|      91.0|     1.0| 1.0|      30.0|   1.0|69.0|    1.0|     1.0|        1.0|         1.0|         0.0|0.0|    1.0|[1.0,27.0,0.0,0.0...|\n",
      "|       1.0|         0.0|     4.0|     0.0| 0.0|3673.78|   0.0|       1.0|      73.0|     1.0| 0.0|      25.0|   1.0|54.0|    1.0|     1.0|        0.0|         0.0|         0.0|1.0|    0.0|(20,[1,4,6,7,8,10...|\n",
      "|       1.0|         1.0|    24.0|     2.0| 1.0|5453.25|   1.0|       1.0|      86.0|     1.0| 1.0|       6.0|   0.0|69.0|    0.0|     1.0|        0.0|         0.0|         0.0|1.0|    0.0|[1.0,24.0,2.0,1.0...|\n",
      "|       1.0|         2.0|     6.0|     0.0| 1.0|5609.64|   1.0|       1.0|      78.0|     0.0| 0.0|       9.0|   1.0|61.0|    1.0|     1.0|        1.0|         0.0|         3.0|0.0|    1.0|[2.0,6.0,0.0,1.0,...|\n",
      "|       1.0|         2.0|    27.0|     0.0| 1.0|8700.72|   1.0|       0.0|      57.0|     1.0| 0.0|      25.0|   0.0|51.0|    0.0|     1.0|        1.0|         3.0|         2.0|0.0|    1.0|[2.0,27.0,0.0,1.0...|\n",
      "|       1.0|         2.0|    13.0|     2.0| 0.0| 9108.3|   1.0|       0.0|      59.0|     1.0| 0.0|      10.0|   0.0|60.0|    1.0|     1.0|        0.0|         4.0|         1.0|1.0|    0.0|[2.0,13.0,2.0,0.0...|\n",
      "|       0.0|         2.0|     3.0|     2.0| 2.0| 3885.0|   1.0|       0.0|      97.0|     1.0| 0.0|      14.0|   0.0|68.0|    0.0|     0.0|        1.0|         2.0|         1.0|1.0|    0.0|[2.0,3.0,2.0,2.0,...|\n",
      "|       1.0|         2.0|     5.0|     2.0| 1.0|4181.06|   1.0|       0.0|      99.0|     1.0| 0.0|       8.0|   0.0|57.0|    1.0|     1.0|        0.0|         1.0|         0.0|1.0|    0.0|[2.0,5.0,2.0,1.0,...|\n",
      "|       0.0|         2.0|    16.0|     2.0| 0.0| 3885.0|   1.0|       1.0|     100.0|     1.0| 1.0|      13.0|   0.0|62.0|    1.0|     1.0|        0.0|         4.0|         2.0|1.0|    0.0|[2.0,16.0,2.0,0.0...|\n",
      "|       1.0|         1.0|     6.0|     1.0| 1.0|7882.79|   1.0|       0.0|      73.0|     1.0| 1.0|      13.0|   1.0|49.0|    0.0|     0.0|        1.0|         3.0|         2.0|0.0|    1.0|[1.0,6.0,1.0,1.0,...|\n",
      "|       0.0|         1.0|    16.0|     0.0| 2.0|4105.58|   1.0|       0.0|      92.0|     0.0| 1.0|      24.0|   0.0|67.0|    1.0|     1.0|        1.0|         0.0|         3.0|1.0|    0.0|[1.0,16.0,0.0,2.0...|\n",
      "+----------+------------+--------+--------+----+-------+------+----------+----------+--------+----+----------+------+----+-------+--------+-----------+------------+------------+---+-------+--------------------+\n",
      "only showing top 20 rows\n",
      "\n"
     ]
    }
   ],
   "source": [
    "#the first step in building our ML pipeline is to convert the predictor features from \n",
    "#DataFrama columns to Feature Vectors using the pyspark.ml.feature.VectorAsember() method. \n",
    "from pyspark.ml.feature import VectorAssembler\n",
    "from pyspark.ml.feature import StringIndexer\n",
    "from pyspark.ml.classification import RandomForestClassifier\n",
    "from pyspark.ml.evaluation import BinaryClassificationEvaluator\n",
    "from pyspark.ml.tuning import ParamGridBuilder\n",
    "from pyspark.ml import Pipeline\n",
    "from pyspark.ml.tuning import CrossValidator\n",
    "from pyspark.mllib.evaluation import BinaryClassificationMetrics\n",
    "\n",
    "datasetDF = sqlContext.table(\"tabla_data\")\n",
    "\n",
    "vectorizer = VectorAssembler()\n",
    "vectorizer.setInputCols([\"aportaciones\",\"duracion\",\"historia\",\"tipo\",\"sueldo\",\n",
    "                        \"ahorro\",\"antiguedad\",\"procentaje\",\"edocivil\",\n",
    "                        \"aval\",\"residencia\",\"seguro\",\"edad\",\"adeudos\",\n",
    "                        \"vivienda\",\"otrapension\",\"tipoafiliado\",\"dependientes\",\"ley\",\"foraneo\"])\n",
    "vectorizer.setOutputCol(\"features\")\n",
    "\n",
    "#return a dataframe with all of the feature columns in a vector columns. \n",
    "#The transform method produced a new column: features.\n",
    "#Transform.- Tranforma los datos de entrada del dataset con parametros optionales. \n",
    "df2 = vectorizer.transform(tablaDF)\n",
    "df2.show()"
   ]
  },
  {
   "cell_type": "code",
   "execution_count": 19,
   "metadata": {
    "collapsed": false
   },
   "outputs": [
    {
     "name": "stdout",
     "output_type": "stream",
     "text": [
      "+----------+------------+--------+--------+----+-------+------+----------+----------+--------+----+----------+------+----+-------+--------+-----------+------------+------------+---+-------+--------------------+-----+\n",
      "|viabilidad|aportaciones|duracion|historia|tipo| sueldo|ahorro|antiguedad|procentaje|edocivil|aval|residencia|seguro|edad|adeudos|vivienda|otrapension|tipoafiliado|dependientes|ley|foraneo|            features|label|\n",
      "+----------+------------+--------+--------+----+-------+------+----------+----------+--------+----+----------+------+----+-------+--------+-----------+------------+------------+---+-------+--------------------+-----+\n",
      "|       0.0|         0.0|     6.0|     2.0| 2.0| 5133.4|   0.0|       0.0|      57.0|     1.0| 1.0|      20.0|   0.0|68.0|    0.0|     0.0|        1.0|         3.0|         0.0|1.0|    0.0|(20,[1,2,3,4,7,8,...|  0.0|\n",
      "|       1.0|         1.0|    30.0|     0.0| 0.0|3625.84|   0.0|       0.0|      96.0|     1.0| 0.0|       6.0|   1.0|69.0|    0.0|     0.0|        0.0|         1.0|         3.0|1.0|    0.0|(20,[0,1,4,7,8,10...|  1.0|\n",
      "|       0.0|         2.0|    24.0|     0.0| 1.0|8700.72|   0.0|       0.0|      71.0|     0.0| 0.0|       9.0|   0.0|68.0|    1.0|     0.0|        1.0|         4.0|         3.0|0.0|    1.0|(20,[0,1,3,4,7,10...|  0.0|\n",
      "|       1.0|         0.0|     2.0|     0.0| 1.0|3673.78|   0.0|       0.0|      86.0|     0.0| 0.0|      20.0|   1.0|63.0|    1.0|     1.0|        1.0|         1.0|         2.0|1.0|    0.0|[0.0,2.0,0.0,1.0,...|  1.0|\n",
      "|       0.0|         0.0|    21.0|     2.0| 1.0| 4018.4|   0.0|       1.0|      87.0|     1.0| 1.0|       6.0|   0.0|60.0|    1.0|     1.0|        1.0|         4.0|         1.0|1.0|    1.0|[0.0,21.0,2.0,1.0...|  0.0|\n",
      "|       1.0|         0.0|    27.0|     2.0| 0.0|5301.36|   0.0|       1.0|      57.0|     1.0| 1.0|      24.0|   1.0|55.0|    1.0|     0.0|        1.0|         3.0|         1.0|1.0|    1.0|[0.0,27.0,2.0,0.0...|  1.0|\n",
      "|       0.0|         1.0|    23.0|     0.0| 1.0|9662.83|   0.0|       0.0|      85.0|     1.0| 1.0|       6.0|   1.0|69.0|    1.0|     0.0|        1.0|         1.0|         1.0|0.0|    0.0|[1.0,23.0,0.0,1.0...|  0.0|\n",
      "|       0.0|         1.0|    25.0|     2.0| 1.0|10500.0|   0.0|       0.0|      98.0|     1.0| 1.0|       9.0|   1.0|53.0|    1.0|     0.0|        0.0|         1.0|         1.0|0.0|    1.0|[1.0,25.0,2.0,1.0...|  0.0|\n",
      "|       0.0|         2.0|    29.0|     1.0| 2.0|4086.27|   1.0|       1.0|      51.0|     1.0| 0.0|       5.0|   1.0|51.0|    0.0|     0.0|        1.0|         1.0|         3.0|0.0|    1.0|[2.0,29.0,1.0,2.0...|  0.0|\n",
      "|       0.0|         1.0|    27.0|     0.0| 0.0|5083.94|   1.0|       1.0|      91.0|     1.0| 1.0|      30.0|   1.0|69.0|    1.0|     1.0|        1.0|         1.0|         0.0|0.0|    1.0|[1.0,27.0,0.0,0.0...|  0.0|\n",
      "|       1.0|         0.0|     4.0|     0.0| 0.0|3673.78|   0.0|       1.0|      73.0|     1.0| 0.0|      25.0|   1.0|54.0|    1.0|     1.0|        0.0|         0.0|         0.0|1.0|    0.0|(20,[1,4,6,7,8,10...|  1.0|\n",
      "|       1.0|         1.0|    24.0|     2.0| 1.0|5453.25|   1.0|       1.0|      86.0|     1.0| 1.0|       6.0|   0.0|69.0|    0.0|     1.0|        0.0|         0.0|         0.0|1.0|    0.0|[1.0,24.0,2.0,1.0...|  1.0|\n",
      "|       1.0|         2.0|     6.0|     0.0| 1.0|5609.64|   1.0|       1.0|      78.0|     0.0| 0.0|       9.0|   1.0|61.0|    1.0|     1.0|        1.0|         0.0|         3.0|0.0|    1.0|[2.0,6.0,0.0,1.0,...|  1.0|\n",
      "|       1.0|         2.0|    27.0|     0.0| 1.0|8700.72|   1.0|       0.0|      57.0|     1.0| 0.0|      25.0|   0.0|51.0|    0.0|     1.0|        1.0|         3.0|         2.0|0.0|    1.0|[2.0,27.0,0.0,1.0...|  1.0|\n",
      "|       1.0|         2.0|    13.0|     2.0| 0.0| 9108.3|   1.0|       0.0|      59.0|     1.0| 0.0|      10.0|   0.0|60.0|    1.0|     1.0|        0.0|         4.0|         1.0|1.0|    0.0|[2.0,13.0,2.0,0.0...|  1.0|\n",
      "|       0.0|         2.0|     3.0|     2.0| 2.0| 3885.0|   1.0|       0.0|      97.0|     1.0| 0.0|      14.0|   0.0|68.0|    0.0|     0.0|        1.0|         2.0|         1.0|1.0|    0.0|[2.0,3.0,2.0,2.0,...|  0.0|\n",
      "|       1.0|         2.0|     5.0|     2.0| 1.0|4181.06|   1.0|       0.0|      99.0|     1.0| 0.0|       8.0|   0.0|57.0|    1.0|     1.0|        0.0|         1.0|         0.0|1.0|    0.0|[2.0,5.0,2.0,1.0,...|  1.0|\n",
      "|       0.0|         2.0|    16.0|     2.0| 0.0| 3885.0|   1.0|       1.0|     100.0|     1.0| 1.0|      13.0|   0.0|62.0|    1.0|     1.0|        0.0|         4.0|         2.0|1.0|    0.0|[2.0,16.0,2.0,0.0...|  0.0|\n",
      "|       1.0|         1.0|     6.0|     1.0| 1.0|7882.79|   1.0|       0.0|      73.0|     1.0| 1.0|      13.0|   1.0|49.0|    0.0|     0.0|        1.0|         3.0|         2.0|0.0|    1.0|[1.0,6.0,1.0,1.0,...|  1.0|\n",
      "|       0.0|         1.0|    16.0|     0.0| 2.0|4105.58|   1.0|       0.0|      92.0|     0.0| 1.0|      24.0|   0.0|67.0|    1.0|     1.0|        1.0|         0.0|         3.0|1.0|    0.0|[1.0,16.0,0.0,2.0...|  0.0|\n",
      "+----------+------------+--------+--------+----+-------+------+----------+----------+--------+----+----------+------+----+-------+--------+-----------+------------+------------+---+-------+--------------------+-----+\n",
      "only showing top 20 rows\n",
      "\n"
     ]
    }
   ],
   "source": [
    "#StringIndexer() una etiqueta indexer que mapea una columna de string de etiquetas a una columna ML de indices de \n",
    "#etiquetas. Si la columna de entrata es numerica, se convierte a string y se indexa el valor de cadena. Los indices\n",
    "#son en [0, numLabels], ordenados por la frecuencia de la etiqueta. Por lo que la etiqueta con mas frecuencia\n",
    "#recibe el index 0\n",
    "#Use a StringIndexer to retunr a DataFrame with the viability column added as a label\n",
    "labelIndexer = StringIndexer()\n",
    "labelIndexer.setInputCol(\"viabilidad\")\n",
    "labelIndexer.setOutputCol(\"label\")\n",
    "\n",
    "#fit().- Ajusta un modelo a el dataset de entrada con patametros opcionales\n",
    "#transform().- Tranforma los datos de entrada del dataset con parametros optionales. \n",
    "df3 = labelIndexer.fit(df2).transform(df2)\n",
    "#The transform method produced a new column: label.\n",
    "df3.show()"
   ]
  },
  {
   "cell_type": "code",
   "execution_count": 20,
   "metadata": {
    "collapsed": true
   },
   "outputs": [],
   "source": [
    "#Data Modeling\n",
    "#Use the randomSplit method to dived up df3 into trainingDF (70% of the input DataFrame) and \n",
    "#a testDataDF (20% of the input DataFrame), and for reproducibility use the deed 5043. The cache each \n",
    "#DataFrame in memory to maximize performance"
   ]
  },
  {
   "cell_type": "code",
   "execution_count": 21,
   "metadata": {
    "collapsed": false
   },
   "outputs": [
    {
     "data": {
      "text/plain": [
       "[Row(viabilidad=0.0, aportaciones=0.0, duracion=1.0, historia=0.0, tipo=0.0, sueldo=3245.14, ahorro=1.0, antiguedad=1.0, procentaje=93.0, edocivil=0.0, aval=0.0, residencia=22.0, seguro=0.0, edad=68.0, adeudos=1.0, vivienda=1.0, otrapension=0.0, tipoafiliado=3.0, dependientes=2.0, ley=1.0, foraneo=0.0, features=SparseVector(20, {1: 1.0, 4: 3245.14, 5: 1.0, 6: 1.0, 7: 93.0, 10: 22.0, 12: 68.0, 13: 1.0, 14: 1.0, 16: 3.0, 17: 2.0, 18: 1.0}), label=0.0)]"
      ]
     },
     "execution_count": 21,
     "metadata": {},
     "output_type": "execute_result"
    }
   ],
   "source": [
    "#The data is split into a training data set and a test data set, 80% of the data is used to traing the model\n",
    "#20% will be used for testing\n",
    "splitSeed =5043\n",
    "#splitSeed =1800009193\n",
    "(split30DF, split70DF) = df3.randomSplit([.30,.70],splitSeed)\n",
    "testDataDF = split30DF.cache()\n",
    "trainingDF = split70DF.cache()\n",
    "trainingDF.take(1)"
   ]
  },
  {
   "cell_type": "code",
   "execution_count": 22,
   "metadata": {
    "collapsed": false
   },
   "outputs": [
    {
     "name": "stdout",
     "output_type": "stream",
     "text": [
      "<bound method Params.explainParams of RandomForestClassifier_471982198fc664d23c59>\n"
     ]
    }
   ],
   "source": [
    "#Inicializar el algoritmo de Random Forest.\n",
    "rd =RandomForestClassifier()\n",
    "print (rd.explainParams)"
   ]
  },
  {
   "cell_type": "code",
   "execution_count": 23,
   "metadata": {
    "collapsed": false
   },
   "outputs": [
    {
     "data": {
      "text/plain": [
       "'RandomForestClassificationModel (uid=rfc_10c467dfbc12) with 20 trees\\n  Tree 0 (weight 1.0):\\n    If (feature 7 <= 57.0)\\n     If (feature 10 <= 27.0)\\n      If (feature 10 <= 26.0)\\n       Predict: 0.0\\n      Else (feature 10 > 26.0)\\n       Predict: 1.0\\n     Else (feature 10 > 27.0)\\n      If (feature 10 <= 28.0)\\n       Predict: 0.0\\n      Else (feature 10 > 28.0)\\n       Predict: 0.0\\n    Else (feature 7 > 57.0)\\n     If (feature 4 <= 3661.78)\\n      If (feature 13 <= 0.0)\\n       Predict: 0.0\\n      Else (feature 13 > 0.0)\\n       Predict: 0.0\\n     Else (feature 4 > 3661.78)\\n      If (feature 17 <= 0.0)\\n       Predict: 1.0\\n      Else (feature 17 > 0.0)\\n       Predict: 0.0\\n  Tree 1 (weight 1.0):\\n    If (feature 4 <= 3661.78)\\n     If (feature 10 <= 21.0)\\n      If (feature 2 <= 1.0)\\n       Predict: 0.0\\n      Else (feature 2 > 1.0)\\n       Predict: 0.0\\n     Else (feature 10 > 21.0)\\n      If (feature 19 <= 0.0)\\n       Predict: 0.0\\n      Else (feature 19 > 0.0)\\n       Predict: 1.0\\n    Else (feature 4 > 3661.78)\\n     If (feature 12 <= 58.0)\\n      If (feature 10 <= 8.0)\\n       Predict: 1.0\\n      Else (feature 10 > 8.0)\\n       Predict: 0.0\\n     Else (feature 12 > 58.0)\\n      If (feature 17 <= 2.0)\\n       Predict: 1.0\\n      Else (feature 17 > 2.0)\\n       Predict: 0.0\\n  Tree 2 (weight 1.0):\\n    If (feature 3 <= 1.0)\\n     If (feature 13 <= 0.0)\\n      If (feature 1 <= 2.0)\\n       Predict: 0.0\\n      Else (feature 1 > 2.0)\\n       Predict: 0.0\\n     Else (feature 13 > 0.0)\\n      If (feature 1 <= 23.0)\\n       Predict: 1.0\\n      Else (feature 1 > 23.0)\\n       Predict: 0.0\\n    Else (feature 3 > 1.0)\\n     If (feature 17 <= 2.0)\\n      If (feature 4 <= 1823.69)\\n       Predict: 1.0\\n      Else (feature 4 > 1823.69)\\n       Predict: 0.0\\n     Else (feature 17 > 2.0)\\n      If (feature 0 <= 0.0)\\n       Predict: 1.0\\n      Else (feature 0 > 0.0)\\n       Predict: 0.0\\n  Tree 3 (weight 1.0):\\n    If (feature 4 <= 2400.12)\\n     If (feature 12 <= 67.0)\\n      If (feature 1 <= 26.0)\\n       Predict: 1.0\\n      Else (feature 1 > 26.0)\\n       Predict: 0.0\\n     Else (feature 12 > 67.0)\\n      If (feature 19 <= 0.0)\\n       Predict: 0.0\\n      Else (feature 19 > 0.0)\\n       Predict: 0.0\\n    Else (feature 4 > 2400.12)\\n     If (feature 7 <= 57.0)\\n      If (feature 4 <= 10649.38)\\n       Predict: 0.0\\n      Else (feature 4 > 10649.38)\\n       Predict: 0.0\\n     Else (feature 7 > 57.0)\\n      If (feature 3 <= 0.0)\\n       Predict: 1.0\\n      Else (feature 3 > 0.0)\\n       Predict: 0.0\\n  Tree 4 (weight 1.0):\\n    If (feature 16 <= 0.0)\\n     If (feature 10 <= 22.0)\\n      If (feature 9 <= 0.0)\\n       Predict: 0.0\\n      Else (feature 9 > 0.0)\\n       Predict: 0.0\\n     Else (feature 10 > 22.0)\\n      If (feature 15 <= 0.0)\\n       Predict: 1.0\\n      Else (feature 15 > 0.0)\\n       Predict: 0.0\\n    Else (feature 16 > 0.0)\\n     If (feature 6 <= 0.0)\\n      If (feature 19 <= 0.0)\\n       Predict: 0.0\\n      Else (feature 19 > 0.0)\\n       Predict: 1.0\\n     Else (feature 6 > 0.0)\\n      If (feature 10 <= 28.0)\\n       Predict: 1.0\\n      Else (feature 10 > 28.0)\\n       Predict: 0.0\\n  Tree 5 (weight 1.0):\\n    If (feature 1 <= 11.0)\\n     If (feature 8 <= 2.0)\\n      If (feature 7 <= 62.0)\\n       Predict: 0.0\\n      Else (feature 7 > 62.0)\\n       Predict: 1.0\\n     Else (feature 8 > 2.0)\\n      If (feature 12 <= 53.0)\\n       Predict: 0.0\\n      Else (feature 12 > 53.0)\\n       Predict: 1.0\\n    Else (feature 1 > 11.0)\\n     If (feature 11 <= 0.0)\\n      If (feature 8 <= 0.0)\\n       Predict: 0.0\\n      Else (feature 8 > 0.0)\\n       Predict: 0.0\\n     Else (feature 11 > 0.0)\\n      If (feature 16 <= 3.0)\\n       Predict: 0.0\\n      Else (feature 16 > 3.0)\\n       Predict: 1.0\\n  Tree 6 (weight 1.0):\\n    If (feature 5 <= 0.0)\\n     If (feature 2 <= 0.0)\\n      If (feature 1 <= 13.0)\\n       Predict: 1.0\\n      Else (feature 1 > 13.0)\\n       Predict: 0.0\\n     Else (feature 2 > 0.0)\\n      If (feature 12 <= 68.0)\\n       Predict: 1.0\\n      Else (feature 12 > 68.0)\\n       Predict: 0.0\\n    Else (feature 5 > 0.0)\\n     If (feature 10 <= 29.0)\\n      If (feature 1 <= 5.0)\\n       Predict: 1.0\\n      Else (feature 1 > 5.0)\\n       Predict: 0.0\\n     Else (feature 10 > 29.0)\\n      If (feature 13 <= 0.0)\\n       Predict: 1.0\\n      Else (feature 13 > 0.0)\\n       Predict: 0.0\\n  Tree 7 (weight 1.0):\\n    If (feature 12 <= 54.0)\\n     If (feature 2 <= 1.0)\\n      If (feature 7 <= 89.0)\\n       Predict: 0.0\\n      Else (feature 7 > 89.0)\\n       Predict: 1.0\\n     Else (feature 2 > 1.0)\\n      If (feature 0 <= 0.0)\\n       Predict: 0.0\\n      Else (feature 0 > 0.0)\\n       Predict: 0.0\\n    Else (feature 12 > 54.0)\\n     If (feature 4 <= 2400.12)\\n      If (feature 8 <= 1.0)\\n       Predict: 1.0\\n      Else (feature 8 > 1.0)\\n       Predict: 0.0\\n     Else (feature 4 > 2400.12)\\n      If (feature 5 <= 0.0)\\n       Predict: 1.0\\n      Else (feature 5 > 0.0)\\n       Predict: 0.0\\n  Tree 8 (weight 1.0):\\n    If (feature 7 <= 57.0)\\n     If (feature 14 <= 0.0)\\n      If (feature 3 <= 0.0)\\n       Predict: 1.0\\n      Else (feature 3 > 0.0)\\n       Predict: 0.0\\n     Else (feature 14 > 0.0)\\n      If (feature 1 <= 11.0)\\n       Predict: 0.0\\n      Else (feature 1 > 11.0)\\n       Predict: 0.0\\n    Else (feature 7 > 57.0)\\n     If (feature 7 <= 60.0)\\n      If (feature 10 <= 7.0)\\n       Predict: 1.0\\n      Else (feature 10 > 7.0)\\n       Predict: 1.0\\n     Else (feature 7 > 60.0)\\n      If (feature 10 <= 29.0)\\n       Predict: 0.0\\n      Else (feature 10 > 29.0)\\n       Predict: 0.0\\n  Tree 9 (weight 1.0):\\n    If (feature 6 <= 0.0)\\n     If (feature 10 <= 28.0)\\n      If (feature 5 <= 0.0)\\n       Predict: 0.0\\n      Else (feature 5 > 0.0)\\n       Predict: 0.0\\n     Else (feature 10 > 28.0)\\n      If (feature 0 <= 0.0)\\n       Predict: 1.0\\n      Else (feature 0 > 0.0)\\n       Predict: 0.0\\n    Else (feature 6 > 0.0)\\n     If (feature 8 <= 2.0)\\n      If (feature 7 <= 57.0)\\n       Predict: 0.0\\n      Else (feature 7 > 57.0)\\n       Predict: 1.0\\n     Else (feature 8 > 2.0)\\n      If (feature 11 <= 0.0)\\n       Predict: 1.0\\n      Else (feature 11 > 0.0)\\n       Predict: 1.0\\n  Tree 10 (weight 1.0):\\n    If (feature 10 <= 21.0)\\n     If (feature 4 <= 9704.63)\\n      If (feature 1 <= 13.0)\\n       Predict: 1.0\\n      Else (feature 1 > 13.0)\\n       Predict: 0.0\\n     Else (feature 4 > 9704.63)\\n      If (feature 1 <= 2.0)\\n       Predict: 0.0\\n      Else (feature 1 > 2.0)\\n       Predict: 1.0\\n    Else (feature 10 > 21.0)\\n     If (feature 4 <= 1823.69)\\n      If (feature 10 <= 29.0)\\n       Predict: 1.0\\n      Else (feature 10 > 29.0)\\n       Predict: 0.0\\n     Else (feature 4 > 1823.69)\\n      If (feature 14 <= 0.0)\\n       Predict: 1.0\\n      Else (feature 14 > 0.0)\\n       Predict: 0.0\\n  Tree 11 (weight 1.0):\\n    If (feature 7 <= 57.0)\\n     If (feature 4 <= 10649.38)\\n      If (feature 16 <= 3.0)\\n       Predict: 0.0\\n      Else (feature 16 > 3.0)\\n       Predict: 1.0\\n     Else (feature 4 > 10649.38)\\n      If (feature 7 <= 55.0)\\n       Predict: 0.0\\n      Else (feature 7 > 55.0)\\n       Predict: 0.0\\n    Else (feature 7 > 57.0)\\n     If (feature 6 <= 0.0)\\n      If (feature 2 <= 1.0)\\n       Predict: 0.0\\n      Else (feature 2 > 1.0)\\n       Predict: 0.0\\n     Else (feature 6 > 0.0)\\n      If (feature 0 <= 1.0)\\n       Predict: 1.0\\n      Else (feature 0 > 1.0)\\n       Predict: 1.0\\n  Tree 12 (weight 1.0):\\n    If (feature 12 <= 56.0)\\n     If (feature 10 <= 7.0)\\n      If (feature 7 <= 65.0)\\n       Predict: 1.0\\n      Else (feature 7 > 65.0)\\n       Predict: 1.0\\n     Else (feature 10 > 7.0)\\n      If (feature 4 <= 3967.27)\\n       Predict: 1.0\\n      Else (feature 4 > 3967.27)\\n       Predict: 0.0\\n    Else (feature 12 > 56.0)\\n     If (feature 16 <= 0.0)\\n      If (feature 1 <= 22.0)\\n       Predict: 1.0\\n      Else (feature 1 > 22.0)\\n       Predict: 0.0\\n     Else (feature 16 > 0.0)\\n      If (feature 7 <= 94.0)\\n       Predict: 1.0\\n      Else (feature 7 > 94.0)\\n       Predict: 0.0\\n  Tree 13 (weight 1.0):\\n    If (feature 7 <= 57.0)\\n     If (feature 10 <= 11.0)\\n      If (feature 1 <= 13.0)\\n       Predict: 0.0\\n      Else (feature 1 > 13.0)\\n       Predict: 0.0\\n     Else (feature 10 > 11.0)\\n      If (feature 1 <= 25.0)\\n       Predict: 0.0\\n      Else (feature 1 > 25.0)\\n       Predict: 1.0\\n    Else (feature 7 > 57.0)\\n     If (feature 17 <= 1.0)\\n      If (feature 10 <= 10.0)\\n       Predict: 0.0\\n      Else (feature 10 > 10.0)\\n       Predict: 1.0\\n     Else (feature 17 > 1.0)\\n      If (feature 3 <= 0.0)\\n       Predict: 0.0\\n      Else (feature 3 > 0.0)\\n       Predict: 0.0\\n  Tree 14 (weight 1.0):\\n    If (feature 10 <= 27.0)\\n     If (feature 4 <= 13654.02)\\n      If (feature 8 <= 0.0)\\n       Predict: 1.0\\n      Else (feature 8 > 0.0)\\n       Predict: 0.0\\n     Else (feature 4 > 13654.02)\\n      If (feature 1 <= 2.0)\\n       Predict: 0.0\\n      Else (feature 1 > 2.0)\\n       Predict: 0.0\\n    Else (feature 10 > 27.0)\\n     If (feature 3 <= 1.0)\\n      If (feature 19 <= 0.0)\\n       Predict: 0.0\\n      Else (feature 19 > 0.0)\\n       Predict: 0.0\\n     Else (feature 3 > 1.0)\\n      If (feature 1 <= 24.0)\\n       Predict: 0.0\\n      Else (feature 1 > 24.0)\\n       Predict: 1.0\\n  Tree 15 (weight 1.0):\\n    If (feature 4 <= 3967.27)\\n     If (feature 7 <= 82.0)\\n      If (feature 10 <= 13.0)\\n       Predict: 0.0\\n      Else (feature 10 > 13.0)\\n       Predict: 0.0\\n     Else (feature 7 > 82.0)\\n      If (feature 7 <= 84.0)\\n       Predict: 1.0\\n      Else (feature 7 > 84.0)\\n       Predict: 0.0\\n    Else (feature 4 > 3967.27)\\n     If (feature 7 <= 67.0)\\n      If (feature 7 <= 57.0)\\n       Predict: 0.0\\n      Else (feature 7 > 57.0)\\n       Predict: 0.0\\n     Else (feature 7 > 67.0)\\n      If (feature 12 <= 68.0)\\n       Predict: 1.0\\n      Else (feature 12 > 68.0)\\n       Predict: 0.0\\n  Tree 16 (weight 1.0):\\n    If (feature 1 <= 8.0)\\n     If (feature 10 <= 8.0)\\n      If (feature 17 <= 0.0)\\n       Predict: 0.0\\n      Else (feature 17 > 0.0)\\n       Predict: 1.0\\n     Else (feature 10 > 8.0)\\n      If (feature 12 <= 55.0)\\n       Predict: 0.0\\n      Else (feature 12 > 55.0)\\n       Predict: 1.0\\n    Else (feature 1 > 8.0)\\n     If (feature 4 <= 2400.12)\\n      If (feature 10 <= 6.0)\\n       Predict: 1.0\\n      Else (feature 10 > 6.0)\\n       Predict: 1.0\\n     Else (feature 4 > 2400.12)\\n      If (feature 7 <= 57.0)\\n       Predict: 0.0\\n      Else (feature 7 > 57.0)\\n       Predict: 0.0\\n  Tree 17 (weight 1.0):\\n    If (feature 6 <= 0.0)\\n     If (feature 7 <= 64.0)\\n      If (feature 0 <= 1.0)\\n       Predict: 0.0\\n      Else (feature 0 > 1.0)\\n       Predict: 1.0\\n     Else (feature 7 > 64.0)\\n      If (feature 4 <= 4145.14)\\n       Predict: 0.0\\n      Else (feature 4 > 4145.14)\\n       Predict: 0.0\\n    Else (feature 6 > 0.0)\\n     If (feature 1 <= 1.0)\\n      If (feature 17 <= 1.0)\\n       Predict: 1.0\\n      Else (feature 17 > 1.0)\\n       Predict: 1.0\\n     Else (feature 1 > 1.0)\\n      If (feature 8 <= 0.0)\\n       Predict: 0.0\\n      Else (feature 8 > 0.0)\\n       Predict: 1.0\\n  Tree 18 (weight 1.0):\\n    If (feature 4 <= 18072.0)\\n     If (feature 10 <= 15.0)\\n      If (feature 1 <= 14.0)\\n       Predict: 1.0\\n      Else (feature 1 > 14.0)\\n       Predict: 0.0\\n     Else (feature 10 > 15.0)\\n      If (feature 12 <= 68.0)\\n       Predict: 0.0\\n      Else (feature 12 > 68.0)\\n       Predict: 0.0\\n    Else (feature 4 > 18072.0)\\n     If (feature 8 <= 1.0)\\n      If (feature 13 <= 0.0)\\n       Predict: 0.0\\n      Else (feature 13 > 0.0)\\n       Predict: 0.0\\n     Else (feature 8 > 1.0)\\n      Predict: 0.0\\n  Tree 19 (weight 1.0):\\n    If (feature 12 <= 68.0)\\n     If (feature 2 <= 0.0)\\n      If (feature 12 <= 65.0)\\n       Predict: 0.0\\n      Else (feature 12 > 65.0)\\n       Predict: 1.0\\n     Else (feature 2 > 0.0)\\n      If (feature 7 <= 94.0)\\n       Predict: 1.0\\n      Else (feature 7 > 94.0)\\n       Predict: 0.0\\n    Else (feature 12 > 68.0)\\n     If (feature 4 <= 2400.12)\\n      If (feature 15 <= 0.0)\\n       Predict: 0.0\\n      Else (feature 15 > 0.0)\\n       Predict: 0.0\\n     Else (feature 4 > 2400.12)\\n      If (feature 11 <= 0.0)\\n       Predict: 1.0\\n      Else (feature 11 > 0.0)\\n       Predict: 0.0\\n'"
      ]
     },
     "execution_count": 23,
     "metadata": {},
     "output_type": "execute_result"
    }
   ],
   "source": [
    "#create the classifier, set parameters for training\n",
    "#MaxDepth: Maximo profundida de un arbol. Aumentando la profundidad hace el modelo mas poderoso, \n",
    "#pero arboles profundos toma mas tiempo de entrenar.\n",
    "#MaxBins: Maximo numero de bins usados para discretizacion de caracteristicas continuas y\n",
    "#para escoger como dividir en caracteristicas en cada nodo. \n",
    "#Impurity: Criterio usado para que la informacion gane calculo.\n",
    "#auto: Automaticamente seleccionar el numero de caracteristicas a considerar para dividir en cada node del arbol\n",
    "#seed: Usa un numero de semilla aleatorio, permitiendo la repeticion de los resultados. \n",
    "classifier = (rd.setImpurity(\"gini\")\n",
    "              .setMaxDepth(3)\n",
    "              .setNumTrees(20)\n",
    "              .setFeatureSubsetStrategy(\"auto\")\n",
    "              .setSeed(5043)\n",
    "             )\n",
    "\n",
    "#use the random forest classifier to train (fit) the model\n",
    "model = classifier.fit(trainingDF)\n",
    "#print out the random forest trees\n",
    "model.toDebugString\n",
    "#model.featureImportances"
   ]
  },
  {
   "cell_type": "code",
   "execution_count": 24,
   "metadata": {
    "collapsed": false
   },
   "outputs": [
    {
     "name": "stdout",
     "output_type": "stream",
     "text": [
      "+----------+------------+--------+--------+----+--------+------+----------+----------+--------+----+----------+------+----+-------+--------+-----------+------------+------------+---+-------+--------------------+-----+--------------------+--------------------+----------+\n",
      "|viabilidad|aportaciones|duracion|historia|tipo|  sueldo|ahorro|antiguedad|procentaje|edocivil|aval|residencia|seguro|edad|adeudos|vivienda|otrapension|tipoafiliado|dependientes|ley|foraneo|            features|label|       rawPrediction|         probability|prediction|\n",
      "+----------+------------+--------+--------+----+--------+------+----------+----------+--------+----+----------+------+----+-------+--------+-----------+------------+------------+---+-------+--------------------+-----+--------------------+--------------------+----------+\n",
      "|       0.0|         0.0|     1.0|     0.0| 1.0|  3493.2|   1.0|       0.0|      86.0|     0.0| 1.0|      22.0|   1.0|63.0|    1.0|     1.0|        0.0|         3.0|         3.0|0.0|    0.0|[0.0,1.0,0.0,1.0,...|  0.0|[10.2096316482160...|[0.51048158241080...|       0.0|\n",
      "|       0.0|         0.0|     1.0|     0.0| 1.0| 5453.25|   0.0|       1.0|      55.0|     0.0| 1.0|      21.0|   1.0|55.0|    0.0|     1.0|        1.0|         0.0|         3.0|0.0|    1.0|[0.0,1.0,0.0,1.0,...|  0.0|[10.4375490877283...|[0.52187745438641...|       0.0|\n",
      "|       0.0|         0.0|     1.0|     1.0| 0.0|  2401.2|   0.0|       0.0|      72.0|     1.0| 1.0|      20.0|   0.0|62.0|    0.0|     1.0|        1.0|         3.0|         1.0|0.0|    0.0|(20,[1,2,4,7,8,9,...|  0.0|[10.1421398763787...|[0.50710699381893...|       0.0|\n",
      "|       0.0|         0.0|     1.0|     1.0| 0.0| 3987.69|   0.0|       1.0|      54.0|     1.0| 0.0|      20.0|   0.0|54.0|    0.0|     0.0|        0.0|         4.0|         0.0|1.0|    0.0|(20,[1,2,4,6,7,8,...|  0.0|[10.1695959336382...|[0.50847979668191...|       0.0|\n",
      "|       0.0|         0.0|     1.0|     1.0| 0.0|  4269.0|   0.0|       1.0|      62.0|     1.0| 1.0|      11.0|   1.0|57.0|    1.0|     0.0|        1.0|         4.0|         2.0|1.0|    1.0|[0.0,1.0,1.0,0.0,...|  0.0|[9.87471824063759...|[0.49373591203187...|       1.0|\n",
      "|       0.0|         0.0|     1.0|     1.0| 0.0| 17653.2|   1.0|       0.0|      78.0|     1.0| 1.0|      28.0|   1.0|50.0|    0.0|     0.0|        1.0|         1.0|         1.0|0.0|    0.0|[0.0,1.0,1.0,0.0,...|  0.0|[10.1961095233352...|[0.50980547616676...|       0.0|\n",
      "|       0.0|         0.0|     1.0|     1.0| 0.0|23350.53|   1.0|       1.0|      65.0|     1.0| 1.0|      28.0|   1.0|69.0|    0.0|     0.0|        0.0|         3.0|         0.0|0.0|    0.0|(20,[1,2,4,5,6,7,...|  0.0|[9.97307621977702...|[0.49865381098885...|       1.0|\n",
      "|       0.0|         0.0|     1.0|     1.0| 1.0| 5453.25|   0.0|       1.0|      88.0|     1.0| 1.0|      27.0|   1.0|58.0|    0.0|     1.0|        0.0|         4.0|         0.0|0.0|    1.0|[0.0,1.0,1.0,1.0,...|  0.0|[9.80746444729768...|[0.49037322236488...|       1.0|\n",
      "|       0.0|         0.0|     1.0|     1.0| 1.0| 8929.72|   0.0|       1.0|      76.0|     1.0| 1.0|       9.0|   0.0|58.0|    1.0|     0.0|        1.0|         2.0|         2.0|0.0|    1.0|[0.0,1.0,1.0,1.0,...|  0.0|[9.84499612412485...|[0.49224980620624...|       1.0|\n",
      "|       0.0|         0.0|     1.0|     1.0| 2.0|  2401.2|   1.0|       1.0|      70.0|     0.0| 0.0|      12.0|   1.0|57.0|    1.0|     0.0|        0.0|         2.0|         0.0|1.0|    1.0|[0.0,1.0,1.0,2.0,...|  0.0|[9.81626695138781...|[0.49081334756939...|       1.0|\n",
      "|       0.0|         0.0|     1.0|     1.0| 2.0| 5289.55|   1.0|       1.0|      85.0|     1.0| 0.0|      30.0|   0.0|52.0|    0.0|     1.0|        1.0|         2.0|         2.0|0.0|    0.0|[0.0,1.0,1.0,2.0,...|  0.0|[10.2612560067539...|[0.51306280033769...|       0.0|\n",
      "|       0.0|         0.0|     1.0|     1.0| 2.0| 5453.25|   1.0|       1.0|      52.0|     0.0| 0.0|      25.0|   1.0|68.0|    0.0|     0.0|        0.0|         0.0|         2.0|0.0|    0.0|(20,[1,2,3,4,5,6,...|  0.0|[10.0374008779043...|[0.50187004389521...|       0.0|\n",
      "|       0.0|         0.0|     1.0|     1.0| 2.0| 6969.96|   0.0|       1.0|      77.0|     0.0| 1.0|      15.0|   1.0|68.0|    0.0|     1.0|        1.0|         1.0|         2.0|1.0|    1.0|[0.0,1.0,1.0,2.0,...|  0.0|[9.80828164619308...|[0.49041408230965...|       1.0|\n",
      "|       0.0|         0.0|     1.0|     1.0| 2.0|41350.44|   0.0|       0.0|      58.0|     1.0| 0.0|      20.0|   0.0|58.0|    0.0|     1.0|        0.0|         3.0|         1.0|0.0|    1.0|(20,[1,2,3,4,7,8,...|  0.0|[10.3915708883350...|[0.51957854441675...|       0.0|\n",
      "|       0.0|         0.0|     1.0|     2.0| 0.0| 7572.15|   0.0|       1.0|      83.0|     1.0| 1.0|      13.0|   0.0|67.0|    1.0|     0.0|        0.0|         0.0|         3.0|1.0|    1.0|[0.0,1.0,2.0,0.0,...|  0.0|[9.79134470449640...|[0.48956723522482...|       1.0|\n",
      "|       0.0|         0.0|     1.0|     2.0| 1.0| 4023.03|   0.0|       0.0|      55.0|     1.0| 1.0|      25.0|   1.0|50.0|    0.0|     1.0|        0.0|         3.0|         1.0|1.0|    0.0|[0.0,1.0,2.0,1.0,...|  0.0|[10.5558432583387...|[0.52779216291693...|       0.0|\n",
      "|       0.0|         0.0|     1.0|     2.0| 2.0| 7572.15|   1.0|       0.0|      72.0|     0.0| 1.0|      14.0|   0.0|61.0|    1.0|     1.0|        1.0|         2.0|         0.0|0.0|    1.0|[0.0,1.0,2.0,2.0,...|  0.0|[9.86598897167421...|[0.49329944858371...|       1.0|\n",
      "|       0.0|         0.0|     1.0|     2.0| 2.0| 9662.82|   1.0|       1.0|      56.0|     1.0| 0.0|      26.0|   0.0|59.0|    1.0|     0.0|        1.0|         4.0|         0.0|0.0|    0.0|[0.0,1.0,2.0,2.0,...|  0.0|[9.94227522341835...|[0.49711376117091...|       1.0|\n",
      "|       0.0|         0.0|     2.0|     0.0| 0.0| 5453.25|   1.0|       0.0|      92.0|     0.0| 0.0|      25.0|   0.0|55.0|    1.0|     1.0|        0.0|         1.0|         2.0|0.0|    0.0|(20,[1,4,5,7,10,1...|  0.0|[10.1066504921168...|[0.50533252460584...|       0.0|\n",
      "|       0.0|         0.0|     2.0|     0.0| 0.0| 6251.69|   0.0|       1.0|      60.0|     0.0| 1.0|      11.0|   0.0|67.0|    1.0|     0.0|        0.0|         0.0|         2.0|1.0|    1.0|(20,[1,4,6,7,9,10...|  0.0|[9.78171328775613...|[0.48908566438780...|       1.0|\n",
      "+----------+------------+--------+--------+----+--------+------+----------+----------+--------+----+----------+------+----+-------+--------+-----------+------------+------------+---+-------+--------------------+-----+--------------------+--------------------+----------+\n",
      "only showing top 20 rows\n",
      "\n"
     ]
    }
   ],
   "source": [
    "#Use the test data to get predictions\n",
    "#run the model on test features to get predictions\n",
    "predictions = model.transform(testDataDF)\n",
    "#predictions.take(1)\n",
    "predictions.show()"
   ]
  },
  {
   "cell_type": "code",
   "execution_count": 25,
   "metadata": {
    "collapsed": false
   },
   "outputs": [
    {
     "name": "stdout",
     "output_type": "stream",
     "text": [
      "0.503795254057112\n"
     ]
    }
   ],
   "source": [
    "#Below we evaluate the predictions, we use a BinaryClassificationEvaluator which returns a \n",
    "#precision metric (The Area Under an ROC Curve) by comparing the test label column with the test \n",
    "#prediction column. In this case the evaluation #returns 50% precision.\n",
    "# create an Evaluator for binary classification, which expects two input columns: rawPrediction and label.\n",
    "evaluator = BinaryClassificationEvaluator().setRawPredictionCol(\"rawPrediction\").setLabelCol(\"label\")\n",
    "# Evaluates predictions and returns a scalar metric areaUnderROC(larger is better).\n",
    "accuracy = evaluator.evaluate(predictions)\n",
    "print(accuracy)"
   ]
  },
  {
   "cell_type": "code",
   "execution_count": 26,
   "metadata": {
    "collapsed": true
   },
   "outputs": [],
   "source": [
    "\n",
    "#From a visual inspection of the predictions, we can see that they are close to the actual values.\n",
    "\n",
    "#However, we would like a scientific measure of how well the Random Forest model is performing in \n",
    "#accurately predicting values. To perform this measurement, we can use an evaluation metric such \n",
    "#as [Root Mean Squared Error](https://en.wikipedia.org/wiki/Root-mean-square_deviation) (RMSE) to \n",
    "#validate our Random Forest model.\n",
    "\n",
    "#RSME is defined as follows: \\\\( RMSE = \\sqrt{\\frac{\\sum_{i = 1}^{n} (x_i - y_i)^2}{n}}\\\\) where \\\\(y_i\\\\) \n",
    "#is the observed value and \\\\(x_i\\\\) is the predicted value\n",
    "\n",
    "#RMSE is a frequently used measure of the differences between values predicted by a model or an \n",
    "#estimator and the values actually observed. The lower the RMSE, the better our model.\n",
    "\n",
    "#Spark ML Pipeline provides several regression analysis metrics, including [RegressionEvaluator()]\n",
    "#(https://spark.apache.org/docs/1.6.2/api/python/pyspark.ml.html#pyspark.ml.evaluation.RegressionEvaluator).\n",
    "\n",
    "#After we create an instance of [RegressionEvaluator]\n",
    "#(https://spark.apache.org/docs/1.6.2/api/python/pyspark.ml.html#pyspark.ml.evaluation.RegressionEvaluator), \n"
   ]
  },
  {
   "cell_type": "code",
   "execution_count": 27,
   "metadata": {
    "collapsed": false
   },
   "outputs": [
    {
     "name": "stdout",
     "output_type": "stream",
     "text": [
      "Root Mean Squared Error: 0.70\n",
      "Mean Absolute Error: 0.49\n"
     ]
    }
   ],
   "source": [
    "# Now let's compute an evaluation metric for our test dataset\n",
    "from pyspark.ml.evaluation import RegressionEvaluator\n",
    "\n",
    "# Create an RMSE evaluator using the label and predicted columns\n",
    "regEval = RegressionEvaluator(predictionCol = \"prediction\", labelCol = \"label\", metricName = \"rmse\")\n",
    "#Create an MAE evaluator using the label and predicted columns\n",
    "regEvals = RegressionEvaluator(predictionCol = \"prediction\", labelCol = \"label\", metricName = \"mae\")\n",
    "\n",
    "# Run the evaluator on the DataFrame\n",
    "rmse = regEval.evaluate(predictions)\n",
    "mae = regEvals.evaluate(predictions)\n",
    "\n",
    "print (\"Root Mean Squared Error: %.2f\" % rmse)\n",
    "print (\"Mean Absolute Error: %.2f\" % mae)"
   ]
  },
  {
   "cell_type": "code",
   "execution_count": 28,
   "metadata": {
    "collapsed": true
   },
   "outputs": [],
   "source": [
    "#Tuning and Evaluation"
   ]
  },
  {
   "cell_type": "code",
   "execution_count": 29,
   "metadata": {
    "collapsed": false
   },
   "outputs": [],
   "source": [
    "#Crea y configura un pipeline. \n",
    "#Pipeline:- El cual actua como un estimador. Un pipeline consiste de secuencias de estados,\n",
    "#el cual cada uno es un estimador o un transformador. \n",
    "steps = [classifier]\n",
    "#Configura los estados del pipeline.\n",
    "pipeline = Pipeline().setStages(steps)"
   ]
  },
  {
   "cell_type": "code",
   "execution_count": 30,
   "metadata": {
    "collapsed": false
   },
   "outputs": [],
   "source": [
    "#Se uso la clase CrossValidator para la seleccion del modelo. El CrossValidator usa un Estimador,\n",
    "#un conjunto de ParamMaps, y un Evaluador. Note: Usar un CroosValidatos puede ser muy caro. \n",
    "#Evalua el modelo sobre instances de prueba y computa el error de prueba. \n",
    "evaluator = (BinaryClassificationEvaluator()\n",
    "  .setLabelCol(\"label\")\n",
    "             )\n",
    "cv = (CrossValidator()\n",
    "  .setEstimator(pipeline)\n",
    "  .setEvaluator(evaluator)\n",
    "  .setNumFolds(10)\n",
    "      )"
   ]
  },
  {
   "cell_type": "code",
   "execution_count": 31,
   "metadata": {
    "collapsed": false
   },
   "outputs": [],
   "source": [
    "#We will next train the model using a pipeline, which can give better results. \n",
    "#A pipeline provides a simple way to try out different combinations of \n",
    "#parameters, using a process called grid search, where you set up the parameters \n",
    "#to test, and MLLib #will test all the combinations. Pipelines make it \n",
    "#easy to tune an entire model building workflow at once, rather than tuning each \n",
    "#element in the Pipeline separately.\n",
    "#regParam = [x / 100.0 for x in range(1,11)]\n",
    "#print (regParam)\n",
    "#Let's tune over our rf.maxBins parameter on the values 50 and 100,We use a ParamGridBuilder \n",
    "#to construct a grid of parameters to search over\n",
    "paramGrid = (ParamGridBuilder()\n",
    "  .addGrid(classifier.maxBins, [28,50,100])\n",
    "  .addGrid(classifier.maxDepth, [4, 6, 8])\n",
    "  .addGrid(classifier.impurity, (\"entropy\", \"gini\"))\n",
    "  .build()\n",
    "             )\n",
    "#Add the paramGrid to the CrossValidator\n",
    "cv.setEstimatorParamMaps(paramGrid)\n",
    "\n",
    "#Now let's find and return the best model\n",
    "cvModel = cv.fit(trainingDF).bestModel"
   ]
  },
  {
   "cell_type": "code",
   "execution_count": 32,
   "metadata": {
    "collapsed": false
   },
   "outputs": [
    {
     "name": "stdout",
     "output_type": "stream",
     "text": [
      "0.5099696520270561\n"
     ]
    }
   ],
   "source": [
    "#The pipeline automatically optimizes by exploring the parameter grid: for each \n",
    "#ParamMap, the CrossValidator trains the given Estimator and evaluates it using \n",
    "#the given Evaluator, then it fits the best Estimator using the best ParamMap \n",
    "#and the entire dataset.\n",
    "\n",
    "#When fit is called, the stages are executed in order.\n",
    "#Fit will run cross-validation,  and choose the best set of parameters.\n",
    "#The fitted model from a Pipeline is an PipelineModel, which consists of \n",
    "#fitted models and transformers\n",
    "pipelineFittedModel = cv.fit(trainingDF).bestModel\n",
    "#Now we can evaluate the pipeline best-fitted model by comparing test predictions \n",
    "#with test labels. \n",
    "#The evaluator now returns 50% accuracy compared to 50% before.\n",
    "#Call tranform to make predictions on test data. \n",
    "#The fitted model will use the best model found\n",
    "predictionsNew = pipelineFittedModel.transform(testDataDF)\n",
    "accuracyNew = evaluator.evaluate(predictionsNew)  \n",
    "print (accuracyNew)"
   ]
  },
  {
   "cell_type": "code",
   "execution_count": 179,
   "metadata": {
    "collapsed": false
   },
   "outputs": [
    {
     "name": "stdout",
     "output_type": "stream",
     "text": [
      "Original Acurracy: 50.38%\n",
      "New Acurracy: 51.00%\n",
      "Original Root Mean Squared Error: 0.70\n",
      "New Root Mean Squared Error: 0.70\n",
      "Mean Absolute Error: 0.49\n",
      "New Mean Absolute Error: 0.49\n"
     ]
    }
   ],
   "source": [
    "#Now let's use cvModel to compute an evaluation metric for our test dataset\n",
    "predictionAndLabelsDF = cvModel.transform(testDataDF)\n",
    "\n",
    "#Run the previously created RMSE evaluator, regEvalu, on true Predictions\n",
    "#And LabalsDF dataFrame\n",
    "rmseNew = regEval.evaluate(predictionAndLabelsDF,{regEval.metricName: \"rmse\"})\n",
    "maeNew = regEval.evaluate(predictionAndLabelsDF,{regEval.metricName: \"mae\"})\n",
    "\n",
    "print(\"Original Acurracy: {0:2.2f}%\".format(accuracy*100))\n",
    "print(\"New Acurracy: {0:2.2f}%\".format(accuracyNew*100))\n",
    "print(\"Original Root Mean Squared Error: {0:2.2f}\".format(rmse))\n",
    "print(\"New Root Mean Squared Error: {0:2.2f}\".format(rmseNew))\n",
    "print(\"Mean Absolute Error: {0:2.2f}\".format(mae))\n",
    "print(\"New Mean Absolute Error: {0:2.2f}\".format(maeNew))"
   ]
  },
  {
   "cell_type": "code",
   "execution_count": null,
   "metadata": {
    "collapsed": true
   },
   "outputs": [],
   "source": []
  }
 ],
 "metadata": {
  "kernelspec": {
   "display_name": "Python 3",
   "language": "python",
   "name": "python3"
  },
  "language_info": {
   "codemirror_mode": {
    "name": "ipython",
    "version": 3
   },
   "file_extension": ".py",
   "mimetype": "text/x-python",
   "name": "python",
   "nbconvert_exporter": "python",
   "pygments_lexer": "ipython3",
   "version": "3.5.1"
  }
 },
 "nbformat": 4,
 "nbformat_minor": 0
}
